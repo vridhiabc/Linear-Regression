{
  "nbformat": 4,
  "nbformat_minor": 0,
  "metadata": {
    "colab": {
      "name": "High vs Low - Linear Regression",
      "provenance": [],
      "authorship_tag": "ABX9TyNRPsElJnIb60OD2w+IOnl6",
      "include_colab_link": true
    },
    "kernelspec": {
      "name": "python3",
      "display_name": "Python 3"
    },
    "language_info": {
      "name": "python"
    }
  },
  "cells": [
    {
      "cell_type": "markdown",
      "metadata": {
        "id": "view-in-github",
        "colab_type": "text"
      },
      "source": [
        "<a href=\"https://colab.research.google.com/github/Sparsh-Srivastava/High-vs-Low---Linear-Regression/blob/main/High_vs_Low_Linear_Regression.ipynb\" target=\"_parent\"><img src=\"https://colab.research.google.com/assets/colab-badge.svg\" alt=\"Open In Colab\"/></a>"
      ]
    },
    {
      "cell_type": "code",
      "metadata": {
        "id": "-8PfRYxHg94n"
      },
      "source": [
        "import numpy as np\n",
        "import matplotlib.pyplot as plt\n",
        "import pandas as pd"
      ],
      "execution_count": 241,
      "outputs": []
    },
    {
      "cell_type": "code",
      "metadata": {
        "id": "76KA2S4WmT5v"
      },
      "source": [
        "dataset = pd.read_csv(\"Updated - Apple.csv\")"
      ],
      "execution_count": 242,
      "outputs": []
    },
    {
      "cell_type": "code",
      "metadata": {
        "id": "pWd54xYAIDfP"
      },
      "source": [
        "dataset = dataset.dropna()"
      ],
      "execution_count": 243,
      "outputs": []
    },
    {
      "cell_type": "code",
      "metadata": {
        "colab": {
          "base_uri": "https://localhost:8080/",
          "height": 417
        },
        "id": "pdovi0CiIH_4",
        "outputId": "ba17f3cd-f1bf-426c-9e41-843a621092d4"
      },
      "source": [
        "dataset"
      ],
      "execution_count": 244,
      "outputs": [
        {
          "output_type": "execute_result",
          "data": {
            "text/html": [
              "<div>\n",
              "<style scoped>\n",
              "    .dataframe tbody tr th:only-of-type {\n",
              "        vertical-align: middle;\n",
              "    }\n",
              "\n",
              "    .dataframe tbody tr th {\n",
              "        vertical-align: top;\n",
              "    }\n",
              "\n",
              "    .dataframe thead th {\n",
              "        text-align: right;\n",
              "    }\n",
              "</style>\n",
              "<table border=\"1\" class=\"dataframe\">\n",
              "  <thead>\n",
              "    <tr style=\"text-align: right;\">\n",
              "      <th></th>\n",
              "      <th>High</th>\n",
              "      <th>Low</th>\n",
              "    </tr>\n",
              "  </thead>\n",
              "  <tbody>\n",
              "    <tr>\n",
              "      <th>0</th>\n",
              "      <td>0.12891</td>\n",
              "      <td>0.12835</td>\n",
              "    </tr>\n",
              "    <tr>\n",
              "      <th>1</th>\n",
              "      <td>0.12221</td>\n",
              "      <td>0.12165</td>\n",
              "    </tr>\n",
              "    <tr>\n",
              "      <th>2</th>\n",
              "      <td>0.11328</td>\n",
              "      <td>0.11272</td>\n",
              "    </tr>\n",
              "    <tr>\n",
              "      <th>3</th>\n",
              "      <td>0.11607</td>\n",
              "      <td>0.11551</td>\n",
              "    </tr>\n",
              "    <tr>\n",
              "      <th>4</th>\n",
              "      <td>0.11942</td>\n",
              "      <td>0.11886</td>\n",
              "    </tr>\n",
              "    <tr>\n",
              "      <th>...</th>\n",
              "      <td>...</td>\n",
              "      <td>...</td>\n",
              "    </tr>\n",
              "    <tr>\n",
              "      <th>10011</th>\n",
              "      <td>126.99250</td>\n",
              "      <td>125.08250</td>\n",
              "    </tr>\n",
              "    <tr>\n",
              "      <th>10012</th>\n",
              "      <td>127.48500</td>\n",
              "      <td>123.83250</td>\n",
              "    </tr>\n",
              "    <tr>\n",
              "      <th>10013</th>\n",
              "      <td>126.44250</td>\n",
              "      <td>124.57750</td>\n",
              "    </tr>\n",
              "    <tr>\n",
              "      <th>10014</th>\n",
              "      <td>131.00000</td>\n",
              "      <td>126.00000</td>\n",
              "    </tr>\n",
              "    <tr>\n",
              "      <th>10015</th>\n",
              "      <td>134.80000</td>\n",
              "      <td>130.53000</td>\n",
              "    </tr>\n",
              "  </tbody>\n",
              "</table>\n",
              "<p>10015 rows × 2 columns</p>\n",
              "</div>"
            ],
            "text/plain": [
              "           High       Low\n",
              "0       0.12891   0.12835\n",
              "1       0.12221   0.12165\n",
              "2       0.11328   0.11272\n",
              "3       0.11607   0.11551\n",
              "4       0.11942   0.11886\n",
              "...         ...       ...\n",
              "10011 126.99250 125.08250\n",
              "10012 127.48500 123.83250\n",
              "10013 126.44250 124.57750\n",
              "10014 131.00000 126.00000\n",
              "10015 134.80000 130.53000\n",
              "\n",
              "[10015 rows x 2 columns]"
            ]
          },
          "metadata": {},
          "execution_count": 244
        }
      ]
    },
    {
      "cell_type": "code",
      "metadata": {
        "id": "sMJ8UpB7mZLY"
      },
      "source": [
        "x = dataset.iloc[:, :-1].values\n",
        "y = dataset.iloc[:, -1].values"
      ],
      "execution_count": 245,
      "outputs": []
    },
    {
      "cell_type": "code",
      "metadata": {
        "colab": {
          "base_uri": "https://localhost:8080/"
        },
        "id": "xhr8DMsfmqdv",
        "outputId": "6f5838cb-5264-46c3-af56-62e0099ed486"
      },
      "source": [
        "print(x)"
      ],
      "execution_count": 246,
      "outputs": [
        {
          "output_type": "stream",
          "name": "stdout",
          "text": [
            "[[1.28906000e-01]\n",
            " [1.22210000e-01]\n",
            " [1.13281000e-01]\n",
            " ...\n",
            " [1.26442497e+02]\n",
            " [1.31000000e+02]\n",
            " [1.34800003e+02]]\n"
          ]
        }
      ]
    },
    {
      "cell_type": "code",
      "metadata": {
        "colab": {
          "base_uri": "https://localhost:8080/"
        },
        "id": "VnxA9Wurmra1",
        "outputId": "2dd6c467-59b7-4304-de28-5d05d6c8bd6b"
      },
      "source": [
        "print(y)"
      ],
      "execution_count": 247,
      "outputs": [
        {
          "output_type": "stream",
          "name": "stdout",
          "text": [
            "[1.28348000e-01 1.21652000e-01 1.12723000e-01 ... 1.24577499e+02\n",
            " 1.26000000e+02 1.30529999e+02]\n"
          ]
        }
      ]
    },
    {
      "cell_type": "code",
      "metadata": {
        "id": "IG_yosxhm7qp"
      },
      "source": [
        "from sklearn.model_selection import train_test_split\n",
        "x_train, x_test, y_train, y_test = train_test_split(x, y, test_size = 0.2, random_state = 0)"
      ],
      "execution_count": 248,
      "outputs": []
    },
    {
      "cell_type": "code",
      "metadata": {
        "colab": {
          "base_uri": "https://localhost:8080/"
        },
        "id": "WxP61E4mnYrb",
        "outputId": "bb63e25d-150c-4a73-fa4b-03e51e2e4a24"
      },
      "source": [
        "from sklearn.linear_model import LinearRegression\n",
        "regressor = LinearRegression()\n",
        "regressor.fit(x_train, y_train)"
      ],
      "execution_count": 249,
      "outputs": [
        {
          "output_type": "execute_result",
          "data": {
            "text/plain": [
              "LinearRegression(copy_X=True, fit_intercept=True, n_jobs=None, normalize=False)"
            ]
          },
          "metadata": {},
          "execution_count": 249
        }
      ]
    },
    {
      "cell_type": "code",
      "metadata": {
        "id": "e4z54dM2nofA",
        "colab": {
          "base_uri": "https://localhost:8080/",
          "height": 295
        },
        "outputId": "dc14aa77-16dd-44a6-fe30-7f2a9b69ee64"
      },
      "source": [
        "plt.scatter(x_train, y_train, color='red')\n",
        "plt.plot(x_train, regressor.predict(x_train), color='blue')\n",
        "plt.title('High vs Low Stock Price (Training Set)')\n",
        "plt.xlabel('High')\n",
        "plt.ylabel('Low')\n",
        "plt.show()"
      ],
      "execution_count": 250,
      "outputs": [
        {
          "output_type": "display_data",
          "data": {
            "image/png": "[encoded data removed]",
            "text/plain": [
              "<Figure size 432x288 with 1 Axes>"
            ]
          },
          "metadata": {
            "needs_background": "light"
          }
        }
      ]
    },
    {
      "cell_type": "code",
      "metadata": {
        "colab": {
          "base_uri": "https://localhost:8080/",
          "height": 295
        },
        "id": "3nb5_wIwIwoh",
        "outputId": "cac0b833-1ec3-42b0-a1bc-0eb8fbca1f45"
      },
      "source": [
        "plt.scatter(x_test, y_test, color='red')\n",
        "plt.plot(x_test, regressor.predict(x_test), color='blue')\n",
        "plt.title('High vs Low Stock Price (Test Set)')\n",
        "plt.xlabel('High')\n",
        "plt.ylabel('Low')\n",
        "plt.show()"
      ],
      "execution_count": 251,
      "outputs": [
        {
          "output_type": "display_data",
          "data": {
            "image/png": "[encoded data removed]",
            "text/plain": [
              "<Figure size 432x288 with 1 Axes>"
            ]
          },
          "metadata": {
            "needs_background": "light"
          }
        }
      ]
    },
    {
      "cell_type": "code",
      "metadata": {
        "id": "pyj5jXO8I-SZ"
      },
      "source": [
        "y_pred = regressor.predict(x_test)"
      ],
      "execution_count": 254,
      "outputs": []
    },
    {
      "cell_type": "code",
      "metadata": {
        "colab": {
          "base_uri": "https://localhost:8080/"
        },
        "id": "Ldt4UKYHJUDV",
        "outputId": "3281ac4e-aa84-425f-f8a6-648dee644443"
      },
      "source": [
        "from sklearn.metrics import r2_score\n",
        "r2_score(y_test, y_pred)*100"
      ],
      "execution_count": 257,
      "outputs": [
        {
          "output_type": "execute_result",
          "data": {
            "text/plain": [
              "99.97352264099638"
            ]
          },
          "metadata": {},
          "execution_count": 257
        }
      ]
    }
  ]
}